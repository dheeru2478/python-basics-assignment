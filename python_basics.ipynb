{
  "nbformat": 4,
  "nbformat_minor": 0,
  "metadata": {
    "colab": {
      "provenance": []
    },
    "kernelspec": {
      "name": "python3",
      "display_name": "Python 3"
    },
    "language_info": {
      "name": "python"
    }
  },
  "cells": [
    {
      "cell_type": "code",
      "execution_count": null,
      "metadata": {
        "id": "fvP1VErOM6sm"
      },
      "outputs": [],
      "source": []
    },
    {
      "cell_type": "markdown",
      "source": [
        "1. What is Python, and why is it popular?\n",
        "  - Paython is the programing language that is easy to understend and making it popular choice among developers and programmers. payhton has the large and active community of developers and extensive library and third party package for various domins.\n",
        "  payhton can be use for various domins include web development, data science, machnine learning, ai etc\n",
        "  1 library and framework\n",
        "  2 community support\n",
        "  3 cross platform compatibilty\n",
        "  4 open source\n",
        "  5 wide industries adoption\n",
        "\n",
        "2. What is an interpreter in Python?\n",
        "   - it is a program that execute python code directly line by line to compile it into machine code first this approach make pyhton an interpreted language\n",
        "\n",
        "3. What are pre-defined keywords in Python?\n",
        "   - keyword are reserved word in the python that have special meaning and connot be use as identifier(variable name, function name, etc)\n",
        "   example include if, else, while, for, no, class, import, true, false, none, etc keyword are case sensative and cannot be defined as overridden with in python program\n",
        "\n",
        "4. Can keywords be used as variable names?\n",
        "   - no keyword cannot be used as variable name in python keyword are reserved word that have specific meaning and purpose\n",
        "\n",
        "5. What is mutability in Python?\n",
        "   - in pyhton object can be ither changable or unchangable mutable objest such as list and dictonries can be modify after creation\n",
        "   mutablity effect how object are sorted and manipulated in memory impacting performance memory usage and concurrency in python program\n",
        "\n",
        "6. Why are lists mutable, but tuples are immutable        \n",
        "   - list (mutable)\n",
        "   flexiblity and ease to modification suitable for dynamic data that change over time\n",
        "   - tuples (immutable)\n",
        "   safer to use as key in dictonries because their hash value doesnot change immutable object reduce the chance of uninteded side effect in the program\n",
        "\n",
        "7. What is the difference between “==” and “is” operators in Python?\n",
        "   - this operater are comprasion operater but sderve different purpose\n",
        "   (==) compare the value of two object to check if they are equal check for value equality regardless for weather the object are same in memory\n",
        "   use when you want to compare the cpntent value of the object\n",
        "\n",
        "   (IS) check if the two object reffer to the same memory ocation if they are the same object check for identity equality which is weather the operander are the exact same object in memory\n",
        "   use whenyou want to check if two variable point to the exact same object on memory\n",
        "\n",
        "8. What are logical operators in Python?\n",
        "   - logical operater are of two type\n",
        "   1 (and) logical operaters are use to combine conditional statement two main logic\n",
        "   return true if both the condition are true otherwise give false\n",
        "   (true and true = true)\n",
        "   (false and true = false)\n",
        "   \n",
        "   2 (or) return true if one of the operands condition is true other wise it gie false\n",
        "   (true and true = true)\n",
        "   (false and false = false)\n",
        "\n",
        "9. What is type casting in Python?\n",
        "   - type casting is also reffer to the type conversion is the process of canging one data type to another in python\n",
        "   - python provide build in function for type casting\n",
        "   such as int(), str(), float(), list[], tuples(), dict(), etc\n",
        "   - type casting is alos necessary in performing arthematic equation operating data manipulation and input and operations\n",
        "\n",
        "10. What is the difference between implicit and explicit type casting?\n",
        "    (implicit type casting)\n",
        "    - performd automatically by pyhton without user intermention\n",
        "    - convert a small data type into large or more general data type to prevent data loss\n",
        "    (explicit type casting)\n",
        "    - performed manullay by the programer using type conversation function like int(), float(), str()\n",
        "    - use when the program want to convert the one data type to another even if there is potential data loss\n",
        "\n",
        "11. What is the purpose of conditional statements in Python?   \n",
        "    - condition in pyhon are use to execute the code basd on the evaluatuion of one or more condition\n",
        "    - python support condition statement such as (if) (elif) (elseif) and use to control the flow of execution\n",
        "    - condition can be nested to handle multiple condition and control differenrt branches on the outcome of logical expression\n",
        "\n",
        "12. How does the elif statement work?    \n",
        "    - in python elif statement is use for conditional branching it stand for(else if) and allow you to test multiple condition in sequence it work by evaluating the condition only if previous condition if or elif were false\n",
        "\n",
        "13. What is the difference between for and while loops?       \n",
        "    - it allow you to execute the block of code repetdly\n",
        "    - loop are of two type\n",
        "    (for loop) (while loop)\n",
        "    - (while loop) repately execute a block of code until the condition is met\n",
        "    (while) is the key word use for while loop\n",
        "    - (for loop) iterate over a sequence of element >> str.list\n",
        "\n",
        "14. Describe a scenario where a while loop is more suitable than a for loop?\n",
        "    - while loop is more suitable then for loop when you donot know in avance how many iteration you need to perform and a loop need to run until a certain condition ius met  \n",
        "      "
      ],
      "metadata": {
        "id": "bhzuVNX_M-co"
      }
    },
    {
      "cell_type": "code",
      "source": [
        "# 1. Write a Python program to print \"Hello, World!?\n",
        "print (\"hello world\")"
      ],
      "metadata": {
        "colab": {
          "base_uri": "https://localhost:8080/"
        },
        "id": "3_ENrB-jPQJE",
        "outputId": "c1f5d07d-2992-458d-ca80-03844770dac0"
      },
      "execution_count": 1,
      "outputs": [
        {
          "output_type": "stream",
          "name": "stdout",
          "text": [
            "hello world\n"
          ]
        }
      ]
    },
    {
      "cell_type": "code",
      "source": [
        "# 2. Write a Python program that displays your name and age?\n",
        "name = input(\"enter your name\")\n",
        "age = input(\"enter your age\")"
      ],
      "metadata": {
        "colab": {
          "base_uri": "https://localhost:8080/"
        },
        "id": "1B8WjYonPiOL",
        "outputId": "adbd6a8f-f8f9-4e71-c665-3f81a758ff3b"
      },
      "execution_count": 2,
      "outputs": [
        {
          "name": "stdout",
          "output_type": "stream",
          "text": [
            "enter your name dheeraj purswani\n",
            "enter your age 21\n"
          ]
        }
      ]
    },
    {
      "cell_type": "code",
      "source": [
        "# 3. Write code to print all the pre-defined keywords in Python using the keyword library?\n",
        "print (\"python predefined keywords\")\n",
        "import keyword\n",
        "print(keyword.kwlist)"
      ],
      "metadata": {
        "colab": {
          "base_uri": "https://localhost:8080/"
        },
        "id": "391CaN8CQDQK",
        "outputId": "18e80bcf-eca3-4e4e-dcdd-6d1d12813b0c"
      },
      "execution_count": 3,
      "outputs": [
        {
          "output_type": "stream",
          "name": "stdout",
          "text": [
            "python predefined keywords\n",
            "['False', 'None', 'True', 'and', 'as', 'assert', 'async', 'await', 'break', 'class', 'continue', 'def', 'del', 'elif', 'else', 'except', 'finally', 'for', 'from', 'global', 'if', 'import', 'in', 'is', 'lambda', 'nonlocal', 'not', 'or', 'pass', 'raise', 'return', 'try', 'while', 'with', 'yield']\n"
          ]
        }
      ]
    },
    {
      "cell_type": "code",
      "source": [
        "# 4. Write a program that checks if a given word is a Python keyword?\n",
        "import keyword\n",
        "word = input(\"enter the word to check if it is python keyword\")\n",
        "if word in keyword.kwlist:\n",
        "  print(f\"{word} is a python keyword\")\n",
        "else:\n",
        "  print(f\"{word} is not a python keyword\")"
      ],
      "metadata": {
        "colab": {
          "base_uri": "https://localhost:8080/"
        },
        "id": "2DWYBchyQlug",
        "outputId": "949b5cb9-0e6b-41cb-c702-96f679a1bcdf"
      },
      "execution_count": 6,
      "outputs": [
        {
          "output_type": "stream",
          "name": "stdout",
          "text": [
            "enter the word to check if it is python keyword false\n",
            " false is not a python keyword\n"
          ]
        }
      ]
    },
    {
      "cell_type": "code",
      "source": [
        "# 9. Write a Python program to convert user input from string to integer, float, and boolean types?\n",
        "# str to float\n",
        "a = \"2.3\"\n",
        "b = float(a)\n",
        "print(b)"
      ],
      "metadata": {
        "colab": {
          "base_uri": "https://localhost:8080/"
        },
        "id": "cCkDCJUJR5Wa",
        "outputId": "ca376f02-76cf-4531-c25e-44eae647152e"
      },
      "execution_count": 11,
      "outputs": [
        {
          "output_type": "stream",
          "name": "stdout",
          "text": [
            "2.3\n"
          ]
        }
      ]
    },
    {
      "cell_type": "code",
      "source": [
        "# str to int\n",
        "a = \"2\"\n",
        "b = int(a)\n",
        "print(b)"
      ],
      "metadata": {
        "colab": {
          "base_uri": "https://localhost:8080/"
        },
        "id": "-ZBctAnrTWly",
        "outputId": "6ee47131-65b4-4af4-8d2c-9b7e81ed60a0"
      },
      "execution_count": 16,
      "outputs": [
        {
          "output_type": "stream",
          "name": "stdout",
          "text": [
            "2\n"
          ]
        }
      ]
    },
    {
      "cell_type": "code",
      "source": [
        "# 11. Write a program that checks if a number is positive, negative, or zero?\n",
        "number = float(input(\"enter a number\"))\n",
        "if number > 0:\n",
        "  print(\"the number is positive\")\n",
        "elif number < 0:\n",
        "  print(\"the number is negative\")\n",
        "else:\n",
        "  print(\"the number is zero\")"
      ],
      "metadata": {
        "colab": {
          "base_uri": "https://localhost:8080/"
        },
        "id": "CuwyR8SJULdp",
        "outputId": "cf000c83-2b01-4ae5-c9f0-808dff8dca69"
      },
      "execution_count": 17,
      "outputs": [
        {
          "output_type": "stream",
          "name": "stdout",
          "text": [
            "enter a number 5\n",
            "the number is positive\n"
          ]
        }
      ]
    },
    {
      "cell_type": "code",
      "source": [
        "# 12.  Write a for loop to print numbers from 1 to 10?\n",
        "for i in range (1,11):\n",
        "  print(i)"
      ],
      "metadata": {
        "colab": {
          "base_uri": "https://localhost:8080/"
        },
        "id": "qgCKcC8RVR-B",
        "outputId": "1b62a31f-9d06-43b4-9122-343d0ab58433"
      },
      "execution_count": 19,
      "outputs": [
        {
          "output_type": "stream",
          "name": "stdout",
          "text": [
            "1\n",
            "2\n",
            "3\n",
            "4\n",
            "5\n",
            "6\n",
            "7\n",
            "8\n",
            "9\n",
            "10\n"
          ]
        }
      ]
    },
    {
      "cell_type": "code",
      "source": [
        "# 13. 0 Write a Python program to find the sum of all even numbers between 1 and 50?\n",
        "even_sum = 0\n",
        "for i in range (1,51):\n",
        "  if i % 2 == 0:\n",
        "    even_sum += i\n",
        "print(even_sum)"
      ],
      "metadata": {
        "colab": {
          "base_uri": "https://localhost:8080/"
        },
        "id": "KAxAIB8uWEP4",
        "outputId": "fae29a62-dc9c-4d02-8d85-244f3973743c"
      },
      "execution_count": 20,
      "outputs": [
        {
          "output_type": "stream",
          "name": "stdout",
          "text": [
            "650\n"
          ]
        }
      ]
    },
    {
      "cell_type": "code",
      "source": [
        "# 14. Write a program to reverse a string using a while loop?\n",
        "original_string = \"pwskills\"\n",
        "reserved_string = \"\"\n",
        "index = len(original_string) - 1\n",
        "while index >= 0:\n",
        "  reserved_string += original_string[index]\n",
        "  index -= 1\n",
        "print(reserved_string)"
      ],
      "metadata": {
        "colab": {
          "base_uri": "https://localhost:8080/"
        },
        "id": "tlMiQM8FW_Pw",
        "outputId": "58477852-f8aa-438d-d5a6-b4844f3c8215"
      },
      "execution_count": 21,
      "outputs": [
        {
          "output_type": "stream",
          "name": "stdout",
          "text": [
            "sllikswp\n"
          ]
        }
      ]
    },
    {
      "cell_type": "code",
      "source": [
        "# 15. Write a Python program to calculate the factorial of a number provided by the user using a while loop?\n",
        "number = int(input(\"enter a non negative number\"))\n",
        "factorial = 1\n",
        "while number > 0:\n",
        "  factorial *= number\n",
        "  number -= 1\n",
        "print(factorial)"
      ],
      "metadata": {
        "colab": {
          "base_uri": "https://localhost:8080/"
        },
        "id": "IKb9PF2lXk_Y",
        "outputId": "5668ff0a-4396-4933-bc84-143c7b63d88a"
      },
      "execution_count": 22,
      "outputs": [
        {
          "output_type": "stream",
          "name": "stdout",
          "text": [
            "enter a non negative number 5\n",
            "120\n"
          ]
        }
      ]
    },
    {
      "cell_type": "code",
      "source": [],
      "metadata": {
        "id": "3rNuJZ3-YIDB"
      },
      "execution_count": null,
      "outputs": []
    }
  ]
}